{
 "cells": [
  {
   "cell_type": "code",
   "execution_count": null,
   "metadata": {
    "collapsed": true
   },
   "outputs": [],
   "source": [
    "import numpy as np\n",
    "import pandas as pd\n",
    "\n",
    "#sigmoid and derivative sigmoid function\n",
    "def sigmoid(x):\n",
    "    return x*(1-x)\n",
    "\n",
    "def derivative_sigmoid(x):\n",
    "    return x*(1-x)\n",
    "\n",
    "class NeuralNetwork:\n",
    "    def __init__(self, layers, lr=0.1):\n",
    "        self.layers = layers # layer\n",
    "        self.lr = lr # learning rate\n",
    "        self.W = [] # weight\n",
    "        self.b = [] #bias\n",
    "\n",
    "        #init parameter in each layer:\n",
    "        for i in range(len(layers) -1):\n",
    "            w_ = np.random.randn(layers[i], layers[i+1])\n",
    "            b_ = np.zeros((layers[i+1], 1))\n",
    "            self.W.append(w_/layers[i])\n",
    "            self.b.append(b_)\n",
    "\n",
    "     # summary model neural network\n",
    "    def __repr__(self):\n",
    "        return \"Neural network [{}]\".format(\"-\".join(str(l) for l in self.layers))\n",
    "\n",
    "    #train model\n",
    "    def fit_partial(self, x, y):\n",
    "        A = [x]\n",
    "        # quá trình feedforward\n",
    "        out = A[-1]\n",
    "        for i in range(0, len(self.layers) - 1):\n",
    "            out = sigmoid(np.dot(out, self.W[i]) + (self.b[i].T))\n",
    "            A.append(out)\n",
    "        # quá trình backpropagation\n",
    "        y = y.reshape(-1, 1)\n",
    "        dA = [-(y/A[-1] - (1-y)/(1-A[-1]))]\n",
    "        dW = []\n",
    "        db = []\n",
    "        for i in reversed(range(0, len(self.layers)-1)):\n",
    "            dw_ = np.dot((A[i]).T, dA[-1] * derivative_sigmoid(A[i+1]))\n",
    "            db_ = (np.sum(dA[-1] * derivative_sigmoid(A[i+1]), 0)).reshape(-1,1)\n",
    "            dA_ = np.dot(dA[-1] * derivative_sigmoid(A[i+1]), self.W[i].T)\n",
    "            dW.append(dw_)\n",
    "            db.append(db_)\n",
    "            dA.append(dA_)\n",
    "        # Đảo ngược dW, db\n",
    "        dW = dW[::-1]\n",
    "        db = db[::-1]\n",
    "        # Gradient descent\n",
    "        for i in range(0, len(self.layers)-1):\n",
    "            self.W[i] = self.W[i] - self.alpha * dW[i]\n",
    "            self.b[i] = self.b[i] - self.alpha * db[i]\n",
    "\n",
    "    # def fit(self,X, y, epochs=20, verbose=10):\n",
    "        # for i in range(0, )\n",
    "#"
   ]
  },
  {
   "cell_type": "code",
   "execution_count": 2,
   "outputs": [
    {
     "ename": "TypeError",
     "evalue": "unsupported operand type(s) for @: 'list' and 'list'",
     "output_type": "error",
     "traceback": [
      "\u001B[0;31m---------------------------------------------------------------------------\u001B[0m",
      "\u001B[0;31mTypeError\u001B[0m                                 Traceback (most recent call last)",
      "\u001B[0;32m<ipython-input-2-f403eb69ae2b>\u001B[0m in \u001B[0;36m<module>\u001B[0;34m\u001B[0m\n\u001B[1;32m      1\u001B[0m \u001B[0ma\u001B[0m \u001B[0;34m=\u001B[0m \u001B[0;34m[\u001B[0m\u001B[0;34m[\u001B[0m\u001B[0;36m1\u001B[0m\u001B[0;34m,\u001B[0m\u001B[0;36m2\u001B[0m\u001B[0;34m,\u001B[0m\u001B[0;36m3\u001B[0m\u001B[0;34m]\u001B[0m\u001B[0;34m,\u001B[0m \u001B[0;34m[\u001B[0m\u001B[0;36m4\u001B[0m\u001B[0;34m,\u001B[0m\u001B[0;36m5\u001B[0m\u001B[0;34m,\u001B[0m\u001B[0;36m6\u001B[0m\u001B[0;34m]\u001B[0m\u001B[0;34m]\u001B[0m\u001B[0;34m\u001B[0m\u001B[0;34m\u001B[0m\u001B[0m\n\u001B[1;32m      2\u001B[0m \u001B[0mb\u001B[0m \u001B[0;34m=\u001B[0m \u001B[0;34m[\u001B[0m\u001B[0;34m[\u001B[0m\u001B[0;36m1\u001B[0m\u001B[0;34m,\u001B[0m\u001B[0;36m2\u001B[0m\u001B[0;34m,\u001B[0m\u001B[0;36m3\u001B[0m\u001B[0;34m]\u001B[0m\u001B[0;34m]\u001B[0m\u001B[0;34m\u001B[0m\u001B[0;34m\u001B[0m\u001B[0m\n\u001B[0;32m----> 3\u001B[0;31m \u001B[0ma\u001B[0m\u001B[0;34m@\u001B[0m\u001B[0mb\u001B[0m\u001B[0;34m\u001B[0m\u001B[0;34m\u001B[0m\u001B[0m\n\u001B[0m\u001B[1;32m      4\u001B[0m \u001B[0;34m\u001B[0m\u001B[0m\n",
      "\u001B[0;31mTypeError\u001B[0m: unsupported operand type(s) for @: 'list' and 'list'"
     ]
    }
   ],
   "source": [],
   "metadata": {
    "collapsed": false,
    "pycharm": {
     "name": "#%%\n"
    }
   }
  }
 ],
 "metadata": {
  "kernelspec": {
   "display_name": "Python 3",
   "language": "python",
   "name": "python3"
  },
  "language_info": {
   "codemirror_mode": {
    "name": "ipython",
    "version": 2
   },
   "file_extension": ".py",
   "mimetype": "text/x-python",
   "name": "python",
   "nbconvert_exporter": "python",
   "pygments_lexer": "ipython2",
   "version": "2.7.6"
  }
 },
 "nbformat": 4,
 "nbformat_minor": 0
}