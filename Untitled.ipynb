{
 "cells": [
  {
   "cell_type": "code",
   "execution_count": 1,
   "metadata": {},
   "outputs": [
    {
     "name": "stderr",
     "output_type": "stream",
     "text": [
      "Using TensorFlow backend.\n",
      "/home/quan/.local/lib/python3.6/site-packages/keras/datasets/reuters.py:85: VisibleDeprecationWarning: Creating an ndarray from ragged nested sequences (which is a list-or-tuple of lists-or-tuples-or ndarrays with different lengths or shapes) is deprecated. If you meant to do this, you must specify 'dtype=object' when creating the ndarray\n",
      "  x_train, y_train = np.array(xs[:idx]), np.array(labels[:idx])\n",
      "/home/quan/.local/lib/python3.6/site-packages/keras/datasets/reuters.py:86: VisibleDeprecationWarning: Creating an ndarray from ragged nested sequences (which is a list-or-tuple of lists-or-tuples-or ndarrays with different lengths or shapes) is deprecated. If you meant to do this, you must specify 'dtype=object' when creating the ndarray\n",
      "  x_test, y_test = np.array(xs[idx:]), np.array(labels[idx:])\n"
     ]
    }
   ],
   "source": [
    "from keras.datasets import reuters\n",
    "(train_data, train_labels),(test_data, test_labels) = reuters.load_data(num_words=10000)"
   ]
  },
  {
   "cell_type": "code",
   "execution_count": 2,
   "metadata": {},
   "outputs": [
    {
     "data": {
      "text/plain": [
       "8982"
      ]
     },
     "execution_count": 2,
     "metadata": {},
     "output_type": "execute_result"
    }
   ],
   "source": [
    "len(train_data)\n"
   ]
  },
  {
   "cell_type": "code",
   "execution_count": 10,
   "metadata": {},
   "outputs": [],
   "source": [
    "import numpy as np \n",
    "\n",
    "def vectorize_sequences(sequences, dimension=10000):\n",
    "    results = np.zeros((len(sequences), dimension))\n",
    "    for i,sequence in enumerate(sequences):\n",
    "        results[i, sequence] =1.\n",
    "    return results\n",
    "\n",
    "x_train = vectorize_sequences(train_data)\n",
    "x_test = vectorize_sequences(test_data)"
   ]
  },
  {
   "cell_type": "code",
   "execution_count": 4,
   "metadata": {},
   "outputs": [],
   "source": [
    "def to_one_hot(labels, dimension=46):\n",
    "    results = np.zeros((len(labels), dimension))\n",
    "    for i, label in enumerate(labels):\n",
    "        results[i, label] = 1.\n",
    "    return results\n",
    "one_hot_train_labels = to_one_hot(train_labels)\n",
    "one_hot_test_labels = to_one_hot(test_labels)"
   ]
  },
  {
   "cell_type": "code",
   "execution_count": 7,
   "metadata": {},
   "outputs": [
    {
     "name": "stdout",
     "output_type": "stream",
     "text": [
      "Model: \"sequential_3\"\n",
      "_________________________________________________________________\n",
      "Layer (type)                 Output Shape              Param #   \n",
      "=================================================================\n",
      "dense_7 (Dense)              (None, 64)                640064    \n",
      "_________________________________________________________________\n",
      "dense_8 (Dense)              (None, 64)                4160      \n",
      "_________________________________________________________________\n",
      "dense_9 (Dense)              (None, 46)                2990      \n",
      "=================================================================\n",
      "Total params: 647,214\n",
      "Trainable params: 647,214\n",
      "Non-trainable params: 0\n",
      "_________________________________________________________________\n"
     ]
    }
   ],
   "source": [
    "from keras import models\n",
    "from keras import layers\n",
    "\n",
    "model = models.Sequential()\n",
    "model.add(layers.Dense(64, activation='relu', input_shape=(10000,)))\n",
    "model.add(layers.Dense(64, activation='relu'))\n",
    "model.add(layers.Dense(46, activation='softmax'))\n",
    "\n",
    "model.compile(optimizer='rmsprop', loss='categorical_crossentropy', metrics=['accuracy'])\n",
    "model.summary()"
   ]
  },
  {
   "cell_type": "code",
   "execution_count": 15,
   "metadata": {},
   "outputs": [],
   "source": [
    "x_val = x_train[:1000]\n",
    "partial_x_train = x_train[1000:]\n",
    "y_val = one_hot_train_labels[:1000]\n",
    "partial_y_train = one_hot_train_labels[1000:]\n",
    "\n"
   ]
  },
  {
   "cell_type": "code",
   "execution_count": 16,
   "metadata": {},
   "outputs": [
    {
     "name": "stdout",
     "output_type": "stream",
     "text": [
      "Train on 7982 samples, validate on 1000 samples\n",
      "Epoch 1/20\n",
      "7982/7982 [==============================] - 2s 194us/step - loss: nan - accuracy: 0.0955 - val_loss: nan - val_accuracy: 0.0060\n",
      "Epoch 2/20\n",
      "7982/7982 [==============================] - 1s 64us/step - loss: nan - accuracy: 0.0061 - val_loss: nan - val_accuracy: 0.0060\n",
      "Epoch 3/20\n",
      "7982/7982 [==============================] - 0s 59us/step - loss: nan - accuracy: 0.0061 - val_loss: nan - val_accuracy: 0.0060\n",
      "Epoch 4/20\n",
      "7982/7982 [==============================] - 0s 62us/step - loss: nan - accuracy: 0.0061 - val_loss: nan - val_accuracy: 0.0060\n",
      "Epoch 5/20\n",
      "7982/7982 [==============================] - 0s 63us/step - loss: nan - accuracy: 0.0061 - val_loss: nan - val_accuracy: 0.0060\n",
      "Epoch 6/20\n",
      "7982/7982 [==============================] - 0s 60us/step - loss: nan - accuracy: 0.0061 - val_loss: nan - val_accuracy: 0.0060\n",
      "Epoch 7/20\n",
      "7982/7982 [==============================] - 1s 63us/step - loss: nan - accuracy: 0.0061 - val_loss: nan - val_accuracy: 0.0060\n",
      "Epoch 8/20\n",
      "7982/7982 [==============================] - 1s 64us/step - loss: nan - accuracy: 0.0061 - val_loss: nan - val_accuracy: 0.0060\n",
      "Epoch 9/20\n",
      "7982/7982 [==============================] - 0s 62us/step - loss: nan - accuracy: 0.0061 - val_loss: nan - val_accuracy: 0.0060\n",
      "Epoch 10/20\n",
      "7982/7982 [==============================] - 1s 63us/step - loss: nan - accuracy: 0.0061 - val_loss: nan - val_accuracy: 0.0060\n",
      "Epoch 11/20\n",
      "7982/7982 [==============================] - 1s 66us/step - loss: nan - accuracy: 0.0061 - val_loss: nan - val_accuracy: 0.0060\n",
      "Epoch 12/20\n",
      "7982/7982 [==============================] - 1s 67us/step - loss: nan - accuracy: 0.0061 - val_loss: nan - val_accuracy: 0.0060\n",
      "Epoch 13/20\n",
      "7982/7982 [==============================] - 1s 67us/step - loss: nan - accuracy: 0.0061 - val_loss: nan - val_accuracy: 0.0060\n",
      "Epoch 14/20\n",
      "7982/7982 [==============================] - 1s 65us/step - loss: nan - accuracy: 0.0061 - val_loss: nan - val_accuracy: 0.0060\n",
      "Epoch 15/20\n",
      "7982/7982 [==============================] - 1s 63us/step - loss: nan - accuracy: 0.0061 - val_loss: nan - val_accuracy: 0.0060\n",
      "Epoch 16/20\n",
      "7982/7982 [==============================] - 1s 64us/step - loss: nan - accuracy: 0.0061 - val_loss: nan - val_accuracy: 0.0060\n",
      "Epoch 17/20\n",
      "7982/7982 [==============================] - 1s 65us/step - loss: nan - accuracy: 0.0061 - val_loss: nan - val_accuracy: 0.0060\n",
      "Epoch 18/20\n",
      "7982/7982 [==============================] - 1s 67us/step - loss: nan - accuracy: 0.0061 - val_loss: nan - val_accuracy: 0.0060\n",
      "Epoch 19/20\n",
      "7982/7982 [==============================] - 1s 65us/step - loss: nan - accuracy: 0.0061 - val_loss: nan - val_accuracy: 0.0060\n",
      "Epoch 20/20\n",
      "7982/7982 [==============================] - 1s 65us/step - loss: nan - accuracy: 0.0061 - val_loss: nan - val_accuracy: 0.0060\n"
     ]
    }
   ],
   "source": [
    "history = model.fit(partial_x_train,partial_y_train,epochs=20,batch_size=512, validation_data=(x_val, y_val))"
   ]
  },
  {
   "cell_type": "code",
   "execution_count": null,
   "metadata": {},
   "outputs": [],
   "source": []
  }
 ],
 "metadata": {
  "kernelspec": {
   "display_name": "Python 3",
   "language": "python",
   "name": "python3"
  },
  "language_info": {
   "codemirror_mode": {
    "name": "ipython",
    "version": 3
   },
   "file_extension": ".py",
   "mimetype": "text/x-python",
   "name": "python",
   "nbconvert_exporter": "python",
   "pygments_lexer": "ipython3",
   "version": "3.6.9"
  }
 },
 "nbformat": 4,
 "nbformat_minor": 4
}
